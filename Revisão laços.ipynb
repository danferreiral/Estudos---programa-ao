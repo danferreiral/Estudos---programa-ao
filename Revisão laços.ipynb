{
  "nbformat": 4,
  "nbformat_minor": 0,
  "metadata": {
    "colab": {
      "provenance": [],
      "authorship_tag": "ABX9TyMqNLffOXnF4o341UAooz49",
      "include_colab_link": true
    },
    "kernelspec": {
      "name": "python3",
      "display_name": "Python 3"
    },
    "language_info": {
      "name": "python"
    }
  },
  "cells": [
    {
      "cell_type": "markdown",
      "metadata": {
        "id": "view-in-github",
        "colab_type": "text"
      },
      "source": [
        "<a href=\"https://colab.research.google.com/github/danferreiral/Estudos---programming/blob/main/Revis%C3%A3o%20la%C3%A7os.ipynb\" target=\"_parent\"><img src=\"https://colab.research.google.com/assets/colab-badge.svg\" alt=\"Open In Colab\"/></a>"
      ]
    },
    {
      "cell_type": "code",
      "source": [
        "#listas revisao\n",
        "\n",
        "frutas = ('Goiaba' , 'pinha' , 'maça verde', 'laranja' , 'manga')"
      ],
      "metadata": {
        "id": "MD_dVVzjEQUG"
      },
      "execution_count": 7,
      "outputs": []
    },
    {
      "cell_type": "code",
      "source": [
        "for d in frutas:\n",
        " print(d)"
      ],
      "metadata": {
        "colab": {
          "base_uri": "https://localhost:8080/"
        },
        "id": "GDN0l8vaEnrA",
        "outputId": "badf0fe5-cff8-4b6f-ab5e-126f4ec60b0d"
      },
      "execution_count": 8,
      "outputs": [
        {
          "output_type": "stream",
          "name": "stdout",
          "text": [
            "Goiaba\n",
            "pinha\n",
            "maça verde\n",
            "laranja\n",
            "manga\n"
          ]
        }
      ]
    },
    {
      "cell_type": "code",
      "source": [
        "for d in frutas:\n",
        "  if(d == 'maça verde'):\n",
        "    print(d)"
      ],
      "metadata": {
        "colab": {
          "base_uri": "https://localhost:8080/"
        },
        "id": "tc1ucKMkGDEN",
        "outputId": "b903f249-4e75-42d3-8aca-0bc6d44702c3"
      },
      "execution_count": 11,
      "outputs": [
        {
          "output_type": "stream",
          "name": "stdout",
          "text": [
            "maça verde\n"
          ]
        }
      ]
    },
    {
      "cell_type": "code",
      "source": [
        "#\n",
        "notas = [8 ,7 ,2 ,2 ,1 , 7, 10, 10, 6]"
      ],
      "metadata": {
        "id": "aPYD8eDeIxh4"
      },
      "execution_count": 31,
      "outputs": []
    },
    {
      "cell_type": "code",
      "source": [
        "for nota in notas:\n",
        "  if(nota >= 7):\n",
        "    print(nota)"
      ],
      "metadata": {
        "colab": {
          "base_uri": "https://localhost:8080/"
        },
        "id": "mvTAiqZWKblR",
        "outputId": "e517cbc8-48af-496b-ca6e-100076c81366"
      },
      "execution_count": 34,
      "outputs": [
        {
          "output_type": "stream",
          "name": "stdout",
          "text": [
            "8\n",
            "7\n",
            "7\n",
            "10\n",
            "10\n"
          ]
        }
      ]
    },
    {
      "cell_type": "code",
      "source": [
        "#exibir quantidade de aprovados e de reprovados.\n",
        "aprovados = 0\n",
        "reprovados = 0\n",
        "for nota in notas: \n",
        "  if(nota >= 7):\n",
        "    aprovados +=1 \n",
        "  else:\n",
        "    reprovados +=1\n",
        "\n",
        "print('Aprovados:' , aprovados)     \n",
        "print('Reprovados:' , reprovados)"
      ],
      "metadata": {
        "colab": {
          "base_uri": "https://localhost:8080/"
        },
        "id": "QAMey8wNKch6",
        "outputId": "02d7dcbf-bb05-4819-a73e-4c9863a059a3"
      },
      "execution_count": 43,
      "outputs": [
        {
          "output_type": "stream",
          "name": "stdout",
          "text": [
            "Aprovados: 5\n",
            "Reprovados: 4\n"
          ]
        }
      ]
    },
    {
      "cell_type": "code",
      "source": [
        "#criat um programa que lista os numeros de 1 a 10\n",
        "#para isto, precisamos de um contador\n",
        "cont = 1\n",
        "numeros = []\n",
        "\n",
        "while (cont <= 10):\n",
        "  numeros.append(cont)\n",
        "  cont += 1\n",
        "\n",
        "numeros"
      ],
      "metadata": {
        "colab": {
          "base_uri": "https://localhost:8080/"
        },
        "id": "WWUhgFLbRNcc",
        "outputId": "e9c1f3eb-b9fb-473d-c47a-0c97fd87a1b9"
      },
      "execution_count": 48,
      "outputs": [
        {
          "output_type": "execute_result",
          "data": {
            "text/plain": [
              "[1, 2, 3, 4, 5, 6, 7, 8, 9, 10]"
            ]
          },
          "metadata": {},
          "execution_count": 48
        }
      ]
    },
    {
      "cell_type": "code",
      "source": [
        "#modificar o codigo para solicitar o tamanho da lista\n",
        "#X e, com laço o laço while crie uma nova lista do tamanho desejado\n",
        "#se é uma nova informação, logo, nova variavel\n",
        "\n",
        "cont = 1\n",
        "numeros = []\n",
        "tamanho = int(input('Digite o tamanho da da lista: '))\n",
        "\n",
        "\n",
        "while (cont <= tamanho):\n",
        "  numeros.append(cont)\n",
        "  cont += 1\n",
        "\n",
        "numeros"
      ],
      "metadata": {
        "colab": {
          "base_uri": "https://localhost:8080/"
        },
        "id": "MF7TcX5wSZ1o",
        "outputId": "eb0fa65e-110c-4303-9f76-f021357136b3"
      },
      "execution_count": 52,
      "outputs": [
        {
          "name": "stdout",
          "output_type": "stream",
          "text": [
            "Digite o tamanho da da lista: 15\n"
          ]
        },
        {
          "output_type": "execute_result",
          "data": {
            "text/plain": [
              "[1, 2, 3, 4, 5, 6, 7, 8, 9, 10, 11, 12, 13, 14, 15]"
            ]
          },
          "metadata": {},
          "execution_count": 52
        }
      ]
    },
    {
      "cell_type": "code",
      "source": [
        "#inserir nome de cidades.\n",
        "#o laço encerra, quando digitar 0"
      ],
      "metadata": {
        "id": "iZA0ZuceUqYk"
      },
      "execution_count": null,
      "outputs": []
    },
    {
      "cell_type": "code",
      "source": [
        "\n",
        "cidades = []\n",
        "city = input('Digite o tamanho da da lista: ')\n",
        "\n",
        "while(city != '0'):\n",
        "    cidades.append(city)\n",
        "    city = input('Digite o tamanho da da lista: ')\n",
        "\n",
        "\n",
        "cidades"
      ],
      "metadata": {
        "colab": {
          "base_uri": "https://localhost:8080/"
        },
        "id": "-ErZy9RHU8MQ",
        "outputId": "4f1a879f-7060-4a2c-d605-8e24e726c138"
      },
      "execution_count": 58,
      "outputs": [
        {
          "name": "stdout",
          "output_type": "stream",
          "text": [
            "Digite o tamanho da da lista: Campina Grande \n",
            "Digite o tamanho da da lista: João pessoa\n",
            "Digite o tamanho da da lista: fortaleza\n",
            "Digite o tamanho da da lista: São Paulo\n",
            "Digite o tamanho da da lista: 0\n"
          ]
        },
        {
          "output_type": "execute_result",
          "data": {
            "text/plain": [
              "['Campina Grande ', 'João pessoa', 'fortaleza', 'São Paulo']"
            ]
          },
          "metadata": {},
          "execution_count": 58
        }
      ]
    },
    {
      "cell_type": "code",
      "source": [
        "#par ou impar\n",
        "num = int(input('Digite um numero:'))\n",
        "\n",
        "while(num >=0):\n",
        "  if(num % 2 == 0):\n",
        "   print('É par')\n",
        "   num = int(input('Digite um numero:'))\n",
        "  else:\n",
        "    print('É impar')\n",
        "    num = int(input('Digite um numero:'))\n",
        "\n",
        "print('Fim!')   \n"
      ],
      "metadata": {
        "colab": {
          "base_uri": "https://localhost:8080/"
        },
        "id": "ZRcDCAMBX94-",
        "outputId": "95f85148-fb2f-47ad-9c04-1da63f0404bf"
      },
      "execution_count": 59,
      "outputs": [
        {
          "output_type": "stream",
          "name": "stdout",
          "text": [
            "Digite um numero:14\n",
            "É par\n",
            "Digite um numero:15\n",
            "É impar\n",
            "Digite um numero:28\n",
            "É par\n",
            "Digite um numero:147\n",
            "É impar\n",
            "Digite um numero:984\n",
            "É par\n",
            "Digite um numero:-3\n",
            "Fim!\n"
          ]
        }
      ]
    }
  ]
}