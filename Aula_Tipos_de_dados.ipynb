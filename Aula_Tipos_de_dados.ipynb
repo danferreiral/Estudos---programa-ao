{
  "nbformat": 4,
  "nbformat_minor": 0,
  "metadata": {
    "colab": {
      "provenance": [],
      "authorship_tag": "ABX9TyOqI9fUM2O3LGKsBLiU5GSa",
      "include_colab_link": true
    },
    "kernelspec": {
      "name": "python3",
      "display_name": "Python 3"
    },
    "language_info": {
      "name": "python"
    }
  },
  "cells": [
    {
      "cell_type": "markdown",
      "metadata": {
        "id": "view-in-github",
        "colab_type": "text"
      },
      "source": [
        "<a href=\"https://colab.research.google.com/github/danferreiral/Estudos---programa-ao/blob/main/Aula_Tipos_de_dados.ipynb\" target=\"_parent\"><img src=\"https://colab.research.google.com/assets/colab-badge.svg\" alt=\"Open In Colab\"/></a>"
      ]
    },
    {
      "cell_type": "code",
      "execution_count": 2,
      "metadata": {
        "colab": {
          "base_uri": "https://localhost:8080/"
        },
        "id": "3ls9NupcBrHT",
        "outputId": "7fad1d8b-7367-479d-f63a-6560b5204b80"
      },
      "outputs": [
        {
          "output_type": "stream",
          "name": "stdout",
          "text": [
            "meu primeiro notebook\n"
          ]
        }
      ],
      "source": [
        "print('meu primeiro notebook')"
      ]
    },
    {
      "cell_type": "code",
      "source": [
        "nome = \"Daniel Ferreira\"\n",
        "print(nome)"
      ],
      "metadata": {
        "colab": {
          "base_uri": "https://localhost:8080/"
        },
        "id": "pzrc8mwyC9TI",
        "outputId": "a84b2874-1e49-45f1-e620-933a53e82527"
      },
      "execution_count": 6,
      "outputs": [
        {
          "output_type": "stream",
          "name": "stdout",
          "text": [
            "Daniel Ferreira\n"
          ]
        }
      ]
    },
    {
      "cell_type": "code",
      "source": [
        "#Descobrir Tipo de variavel\n",
        "type(nome)"
      ],
      "metadata": {
        "colab": {
          "base_uri": "https://localhost:8080/"
        },
        "id": "7Ik6W4vYDHUC",
        "outputId": "d12da9c0-17e6-419b-f84c-ae3e75356f7a"
      },
      "execution_count": 11,
      "outputs": [
        {
          "output_type": "execute_result",
          "data": {
            "text/plain": [
              "str"
            ]
          },
          "metadata": {},
          "execution_count": 11
        }
      ]
    },
    {
      "cell_type": "code",
      "source": [
        "a = 100\n",
        "b = 25.6\n",
        "c = a > b\n",
        "d = 'Chimp'"
      ],
      "metadata": {
        "id": "HStWBLi5ELvP"
      },
      "execution_count": 15,
      "outputs": []
    },
    {
      "cell_type": "code",
      "source": [
        "print(c)\n"
      ],
      "metadata": {
        "colab": {
          "base_uri": "https://localhost:8080/"
        },
        "id": "Z9s3ZwxsE5xx",
        "outputId": "b4cfa091-c250-49d2-f12a-60ca8477f916"
      },
      "execution_count": 25,
      "outputs": [
        {
          "output_type": "stream",
          "name": "stdout",
          "text": [
            "True\n"
          ]
        }
      ]
    },
    {
      "cell_type": "markdown",
      "source": [
        "Dados booleanos"
      ],
      "metadata": {
        "id": "3ID-Mt20LANS"
      }
    },
    {
      "cell_type": "code",
      "source": [
        "a = 100 < 200\n",
        "b = 85 == 5 \n",
        "c = 'Daniel' == 'Ferreira'\n",
        "d = 24 == (3*8) \n",
        "e = 30 == (6*5)\n",
        "f = 'Flamengo' != 'Vasco'"
      ],
      "metadata": {
        "id": "UgR6JmJZLEyk"
      },
      "execution_count": 36,
      "outputs": []
    },
    {
      "cell_type": "code",
      "source": [
        "print(a)\n",
        "print(b)\n",
        "print(c)\n",
        "print(d)\n",
        "print(e)\n",
        "print(f)"
      ],
      "metadata": {
        "colab": {
          "base_uri": "https://localhost:8080/"
        },
        "id": "g6F3ETXyLb8u",
        "outputId": "9b1490da-7614-4457-8b4a-4ce5b6d32a2a"
      },
      "execution_count": 37,
      "outputs": [
        {
          "output_type": "stream",
          "name": "stdout",
          "text": [
            "True\n",
            "False\n",
            "False\n",
            "True\n",
            "True\n",
            "True\n"
          ]
        }
      ]
    },
    {
      "cell_type": "code",
      "source": [
        "notaAprovaçao = 7.0\n",
        "notaDaniel = 9.0\n",
        "print(notaAprovaçao < notaDaniel)"
      ],
      "metadata": {
        "colab": {
          "base_uri": "https://localhost:8080/"
        },
        "id": "TWtnEiAVM8gB",
        "outputId": "5b35e168-b2e0-42a5-affb-dd88d3b1e971"
      },
      "execution_count": 72,
      "outputs": [
        {
          "output_type": "stream",
          "name": "stdout",
          "text": [
            "True\n"
          ]
        }
      ]
    },
    {
      "cell_type": "code",
      "source": [
        "if(notaDaniel >= notaAprovaçao):\n",
        "  print('Aprovado')"
      ],
      "metadata": {
        "colab": {
          "base_uri": "https://localhost:8080/"
        },
        "id": "Tci68YFVNKyi",
        "outputId": "6d1b7781-3bdb-4241-be80-b3be3cea5561"
      },
      "execution_count": 48,
      "outputs": [
        {
          "output_type": "stream",
          "name": "stdout",
          "text": [
            "Aprovado\n"
          ]
        }
      ]
    },
    {
      "cell_type": "code",
      "source": [
        "if(notaDaniel >= notaAprovaçao):\n",
        "  print('Aprovado')\n",
        "else:\n",
        "  print('Reprovado')"
      ],
      "metadata": {
        "colab": {
          "base_uri": "https://localhost:8080/"
        },
        "id": "J8Vc9xlQODcA",
        "outputId": "fd650409-6c39-4798-c4fa-f12c5e82878e"
      },
      "execution_count": 53,
      "outputs": [
        {
          "output_type": "stream",
          "name": "stdout",
          "text": [
            "Aprovado\n"
          ]
        }
      ]
    },
    {
      "cell_type": "code",
      "source": [
        "#Se a nota for igual ou maior a 7 passou\n",
        "#Se a nota for maior ou igual a 4,recperaçao\n",
        "#Se a nota for menor que 4, reprovado\n",
        "\n",
        "if(notaDaniel >= 7.0):\n",
        "  print('Aprovado')\n",
        "elif(notaDaniel >= 4 and notaDaniel <7):\n",
        "  print('Recuperacao')\n",
        "else:\n",
        "  print('Reprovado')"
      ],
      "metadata": {
        "colab": {
          "base_uri": "https://localhost:8080/"
        },
        "id": "l3k_q2RmO65D",
        "outputId": "e079b39d-086f-42ae-e9e3-47054efc8f75"
      },
      "execution_count": 70,
      "outputs": [
        {
          "output_type": "stream",
          "name": "stdout",
          "text": [
            "Recuperacao\n"
          ]
        }
      ]
    },
    {
      "cell_type": "code",
      "source": [
        "if(notaDaniel < 4):\n",
        "  print('Reprovado')\n",
        "elif(notaDaniel <7):\n",
        "  print('Recuperaçao')\n",
        "else:\n",
        "  print('Aprovado')"
      ],
      "metadata": {
        "colab": {
          "base_uri": "https://localhost:8080/"
        },
        "id": "2yfT_oAjTMpM",
        "outputId": "0d2140b6-e430-4dd2-fb8b-32f1bae4a7b5"
      },
      "execution_count": 73,
      "outputs": [
        {
          "output_type": "stream",
          "name": "stdout",
          "text": [
            "Aprovado\n"
          ]
        }
      ]
    },
    {
      "cell_type": "markdown",
      "source": [
        "Input de dado Pyton\n"
      ],
      "metadata": {
        "id": "YB1-HsO7UfV6"
      }
    },
    {
      "cell_type": "code",
      "source": [
        "nota1 = input('Digita a nota, pae! ')\n",
        "nota2 = input('Digite a segunda nota! ')\n",
        "print(nota1+nota2)"
      ],
      "metadata": {
        "colab": {
          "base_uri": "https://localhost:8080/"
        },
        "id": "Ko7udVngUkyP",
        "outputId": "5a5eea96-3d48-4a3b-83fa-9981bbad0696"
      },
      "execution_count": 74,
      "outputs": [
        {
          "output_type": "stream",
          "name": "stdout",
          "text": [
            "Digita a nota, pae! 8\n",
            "Digite a segunda nota! 6\n",
            "86\n"
          ]
        }
      ]
    },
    {
      "cell_type": "code",
      "source": [
        "#O veho e bom Parse\n",
        "\n",
        "nota1 = float(input('Digita a nota, pae! '))\n",
        "nota2 = float(input('Digite a segunda nota! '))\n",
        "nota3 = float(input('Digite a terceira nota! '))\n",
        "media = (nota1 + nota2 + nota3)/3\n",
        "print(media)"
      ],
      "metadata": {
        "colab": {
          "base_uri": "https://localhost:8080/"
        },
        "id": "w2F36ydpVcE4",
        "outputId": "4618ce00-7a5f-4cc6-e209-73d8701c2652"
      },
      "execution_count": 88,
      "outputs": [
        {
          "output_type": "stream",
          "name": "stdout",
          "text": [
            "Digita a nota, pae! 10\n",
            "Digite a segunda nota! 8\n",
            "Digite a terceira nota! 7\n",
            "8.333333333333334\n"
          ]
        }
      ]
    },
    {
      "cell_type": "code",
      "source": [
        "if(media < 4):\n",
        "  print('Reprovado')\n",
        "elif(media <7):\n",
        "  print('Recuperaçao')\n",
        "else:\n",
        "  print('Aprovado')"
      ],
      "metadata": {
        "colab": {
          "base_uri": "https://localhost:8080/"
        },
        "id": "SWSzYwHIW4BA",
        "outputId": "dd8f998b-9a6c-4922-c192-8602d20028d3"
      },
      "execution_count": 87,
      "outputs": [
        {
          "output_type": "stream",
          "name": "stdout",
          "text": [
            "Recuperaçao\n"
          ]
        }
      ]
    }
  ]
}